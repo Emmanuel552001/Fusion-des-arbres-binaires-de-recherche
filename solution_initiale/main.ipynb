{
 "cells": [
  {
   "cell_type": "code",
   "execution_count": 55,
   "metadata": {},
   "outputs": [
    {
     "name": "stdout",
     "output_type": "stream",
     "text": [
      "\n",
      "Génération de nœuds supplémentaires pour les arbres...\n"
     ]
    },
    {
     "ename": "AttributeError",
     "evalue": "'NoneType' object has no attribute 'print_post_order'",
     "output_type": "error",
     "traceback": [
      "\u001b[0;31m---------------------------------------------------------------------------\u001b[0m",
      "\u001b[0;31mAttributeError\u001b[0m                            Traceback (most recent call last)",
      "Cell \u001b[0;32mIn [55], line 28\u001b[0m\n\u001b[1;32m     26\u001b[0m     arbre1\u001b[38;5;241m.\u001b[39mprint_post_order()\n\u001b[1;32m     27\u001b[0m \u001b[38;5;28;01mif\u001b[39;00m \u001b[38;5;18m__name__\u001b[39m \u001b[38;5;241m==\u001b[39m \u001b[38;5;124m'\u001b[39m\u001b[38;5;124m__main__\u001b[39m\u001b[38;5;124m'\u001b[39m:\n\u001b[0;32m---> 28\u001b[0m     \u001b[43mmain\u001b[49m\u001b[43m(\u001b[49m\u001b[43m)\u001b[49m\n",
      "Cell \u001b[0;32mIn [55], line 26\u001b[0m, in \u001b[0;36mmain\u001b[0;34m()\u001b[0m\n\u001b[1;32m     24\u001b[0m arbre1 \u001b[38;5;241m=\u001b[39m arbre1\u001b[38;5;241m.\u001b[39mgenerate_random_tree((taille_arbre1\u001b[38;5;241m-\u001b[39m\u001b[38;5;241m1\u001b[39m))  \u001b[38;5;66;03m# Taille totale moins la racine déjà ajoutée\u001b[39;00m\n\u001b[1;32m     25\u001b[0m arbre2 \u001b[38;5;241m=\u001b[39m arbre2\u001b[38;5;241m.\u001b[39mgenerate_random_tree((taille_arbre2 \u001b[38;5;241m-\u001b[39m\u001b[38;5;241m2\u001b[39m))  \u001b[38;5;66;03m# Taille totale moins la racine déjà ajoutée\u001b[39;00m\n\u001b[0;32m---> 26\u001b[0m \u001b[43marbre1\u001b[49m\u001b[38;5;241;43m.\u001b[39;49m\u001b[43mprint_post_order\u001b[49m()\n",
      "\u001b[0;31mAttributeError\u001b[0m: 'NoneType' object has no attribute 'print_post_order'"
     ]
    }
   ],
   "source": [
    "from tree.tree import Tree\n",
    "from node.node import Node\n",
    "from test import Solution\n",
    "\n",
    "def main():\n",
    "    # Demande à l'utilisateur d'entrer la racine et la taille de l'arbre 1\n",
    "    racine1_value = int(input(\"Entrez la valeur de la racine de l'arbre 1 : \"))\n",
    "    taille_arbre1 = int(input(\"Entrez la taille de l'arbre 1 (nombre de nœuds) : \"))\n",
    "\n",
    "    # Demande à l'utilisateur d'entrer la racine et la taille de l'arbre 2\n",
    "    racine2_value = int(input(\"Entrez la valeur de la racine de l'arbre 2 : \"))\n",
    "    taille_arbre2 = int(input(\"Entrez la taille de l'arbre 2 (nombre de nœuds) : \"))\n",
    "\n",
    "    # Crée les nœuds racines avec les valeurs fournies\n",
    "    racine1 = Node(racine1_value)\n",
    "    racine2 = Node(racine2_value)\n",
    "\n",
    "    # Initialise les arbres avec les nœuds racines\n",
    "    arbre1 = Tree(racine1)\n",
    "    arbre2 = Tree(racine2)\n",
    "\n",
    "    # Génère des nœuds supplémentaires dans les deux arbres\n",
    "    print(\"\\nGénération de nœuds supplémentaires pour les arbres...\")\n",
    "    arbre1.generate_random_tree((taille_arbre1-1))  # Taille totale moins la racine déjà ajoutée\n",
    "    arbre2 = arbre2.generate_random_tree((taille_arbre2 -2))  # Taille totale moins la racine déjà ajoutée\n",
    "    arbre1.print_post_order()\n",
    "if __name__ == '__main__':\n",
    "    main()\n"
   ]
  }
 ],
 "metadata": {
  "kernelspec": {
   "display_name": "Python 3",
   "language": "python",
   "name": "python3"
  },
  "language_info": {
   "codemirror_mode": {
    "name": "ipython",
    "version": 3
   },
   "file_extension": ".py",
   "mimetype": "text/x-python",
   "name": "python",
   "nbconvert_exporter": "python",
   "pygments_lexer": "ipython3",
   "version": "3.11.2"
  }
 },
 "nbformat": 4,
 "nbformat_minor": 2
}
