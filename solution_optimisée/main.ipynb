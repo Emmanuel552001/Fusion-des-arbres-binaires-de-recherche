{
 "cells": [
  {
   "cell_type": "code",
   "execution_count": null,
   "metadata": {},
   "outputs": [],
   "source": [
    "from .test import Test\n",
    "\n",
    "def main():\n",
    "    test = Test()\n",
    "    test.run()\n",
    "\n",
    "if __name__ == '__main__':\n",
    "    main()"
   ]
  }
 ],
 "metadata": {
  "language_info": {
   "name": "python"
  }
 },
 "nbformat": 4,
 "nbformat_minor": 2
}
